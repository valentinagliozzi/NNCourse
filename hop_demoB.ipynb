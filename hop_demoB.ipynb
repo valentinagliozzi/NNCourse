{
  "cells": [
    {
      "cell_type": "markdown",
      "metadata": {
        "id": "view-in-github",
        "colab_type": "text"
      },
      "source": [
        "<a href=\"https://colab.research.google.com/github/valentinagliozzi/NNCourse/blob/main/hop_demoB.ipynb\" target=\"_parent\"><img src=\"https://colab.research.google.com/assets/colab-badge.svg\" alt=\"Open In Colab\"/></a>"
      ]
    },
    {
      "cell_type": "code",
      "execution_count": null,
      "metadata": {
        "id": "-iSaI30Dps8d"
      },
      "outputs": [],
      "source": [
        "import numpy as np\n",
        "from scipy.io import loadmat\n",
        "\n",
        "import pylab as pl\n",
        "from IPython import display"
      ]
    },
    {
      "cell_type": "markdown",
      "metadata": {
        "id": "nQJHlIoFps8d"
      },
      "source": [
        "# Helper functions"
      ]
    },
    {
      "cell_type": "code",
      "execution_count": null,
      "metadata": {
        "id": "XwhEm4deps8e"
      },
      "outputs": [],
      "source": [
        "\n",
        "def hop_plotdig(P, r=None, c=None, stri=None, ax=None):\n",
        "    \"\"\"\n",
        "    Displays the Hopfield digit stored in P.\n",
        "    If P is a vector, it must first be reshaped.\n",
        "    \"\"\"\n",
        "    if r is not None and c is not None:\n",
        "        P = np.reshape(P, (r, c)).T\n",
        "\n",
        "    P = (P + 1) * 64\n",
        "\n",
        "    ax.imshow(P, cmap=\"bone\")\n",
        "    ax.set_xticks([])\n",
        "    ax.set_yticks([])\n",
        "\n",
        "    if stri is not None:\n",
        "        ax.set_xlabel(stri)\n",
        "\n",
        "\n",
        "def hop_plotpats(P):\n",
        "    \"\"\"\n",
        "    Routine plots the digits for the Hopfield network, the patterns\n",
        "    are contained in the file hop_data.mat\n",
        "    \"\"\"\n",
        "    n1 = \"zero\"\n",
        "    n2 = \"one\"\n",
        "    n3 = \"two\"\n",
        "    n4 = \"three\"\n",
        "    n5 = \"four\"\n",
        "    n6 = \"six\"\n",
        "    n7 = \"nine\"\n",
        "    n8 = \"block\"\n",
        "\n",
        "    labels = [n1, n2, n3, n4, n5, n6, n7, n8]\n",
        "\n",
        "    fig, ax = pl.subplots(3, 3)\n",
        "    fig.set_size_inches(10, 10)\n",
        "    for i in range(8):\n",
        "        hop_plotdig(P[:, i], 10, 12, labels[i], ax[i // 3, i % 3])\n",
        "\n",
        "    fig.show()\n",
        "\n",
        "\n",
        "def hop_stor(P):\n",
        "    \"\"\"\n",
        "    Performs the storage (learning phase) for a Hopfield network.\n",
        "\n",
        "    Parameters:\n",
        "    P - patterns to be stored (column wise matrix)\n",
        "\n",
        "    Returns:\n",
        "    W - weight matrix\n",
        "    \"\"\"\n",
        "    n, p = P.shape\n",
        "    W = np.zeros((n, n))\n",
        "    for j in range(1, n):\n",
        "        for i in range(j):\n",
        "            W[i, j] = np.dot(P[i, :], P[j, :]) / p\n",
        "            W[j, i] = W[i, j]\n",
        "    return W\n",
        "\n",
        "\n",
        "def hop_flip(P, prob):\n",
        "    \"\"\"\n",
        "    This routine randomly flips bits in the input pattern (P) according to the\n",
        "    user specified probability.\n",
        "\n",
        "    Parameters:\n",
        "    P - input pattern\n",
        "    prob - probability of flipping a bit\n",
        "\n",
        "    Returns:\n",
        "    P - modified pattern\n",
        "    flip - number of bits flipped\n",
        "    \"\"\"\n",
        "    P = P.flatten()\n",
        "    r = P.shape[0]\n",
        "    flip = 0\n",
        "\n",
        "    for i in range(r):\n",
        "        v = np.random.rand()\n",
        "        if v <= prob:\n",
        "            flip += 1\n",
        "            P[i] = P[i] * (-1)\n",
        "\n",
        "    P = P.reshape(-1, 1)\n",
        "    return P, flip\n",
        "\n",
        "\n",
        "def hop_test(W, x, update, plot=\"on\", fig=None, ax=None):\n",
        "    \"\"\"\n",
        "    Parameters:\n",
        "    W - weight matrix\n",
        "    x - probe vector\n",
        "    update - how often to view the network\n",
        "    fig - figure handle\n",
        "    ax - axis handle\n",
        "\n",
        "    Returns:\n",
        "    s - output state vector\n",
        "    count - number of cycles until stable state is reached\n",
        "    M - matrix containing the intermediate network states\n",
        "    \"\"\"\n",
        "    s_prev = x.flatten()\n",
        "    count = 0\n",
        "\n",
        "    update = max(update, 1)\n",
        "\n",
        "    while count < update:\n",
        "        ch = []\n",
        "\n",
        "        count += 1\n",
        "\n",
        "        nv = np.sign(np.dot(W, s_prev))\n",
        "        ch = [j for j in range(120) if nv[j] != 0 and abs(nv[j] - s_prev[j]) > 0]\n",
        "\n",
        "        if not ch:\n",
        "            break\n",
        "\n",
        "        r_ind = np.random.choice(ch)\n",
        "        s_prev[r_ind] = -s_prev[r_ind]\n",
        "\n",
        "\n",
        "    s = s_prev.reshape(x.shape)\n",
        "    return s"
      ]
    },
    {
      "cell_type": "markdown",
      "metadata": {
        "id": "9mrLly8Mps8f"
      },
      "source": [
        "# The Hopfield Network - Demo 1 - Pattern Recall\n",
        "\n",
        "This algorithm demonstrates recall of a corrupted pattern.\n",
        "The user is prompted for the input pattern and the noise level\n",
        "as well as an interval at which to show progress of the algorithm.\n",
        "\n",
        "Loading the digits."
      ]
    },
    {
      "cell_type": "code",
      "execution_count": null,
      "metadata": {
        "colab": {
          "base_uri": "https://localhost:8080/",
          "height": 1000
        },
        "id": "-1UmRo6yps8f",
        "outputId": "f678e094-3b4b-4e89-c1d0-96cc7d2c5faa"
      },
      "outputs": [
        {
          "output_type": "stream",
          "name": "stdout",
          "text": [
            "--2024-10-28 15:04:18--  https://github.com/valentinagliozzi/NNCourse/raw/main/hop_data.mat\n",
            "Resolving github.com (github.com)... 140.82.113.3\n",
            "Connecting to github.com (github.com)|140.82.113.3|:443... connected.\n",
            "HTTP request sent, awaiting response... 302 Found\n",
            "Location: https://raw.githubusercontent.com/valentinagliozzi/NNCourse/main/hop_data.mat [following]\n",
            "--2024-10-28 15:04:18--  https://raw.githubusercontent.com/valentinagliozzi/NNCourse/main/hop_data.mat\n",
            "Resolving raw.githubusercontent.com (raw.githubusercontent.com)... 185.199.108.133, 185.199.109.133, 185.199.111.133, ...\n",
            "Connecting to raw.githubusercontent.com (raw.githubusercontent.com)|185.199.108.133|:443... connected.\n",
            "HTTP request sent, awaiting response... 200 OK\n",
            "Length: 15578 (15K) [application/octet-stream]\n",
            "Saving to: ‘hop_data.mat’\n",
            "\n",
            "hop_data.mat        100%[===================>]  15.21K  --.-KB/s    in 0s      \n",
            "\n",
            "2024-10-28 15:04:18 (43.7 MB/s) - ‘hop_data.mat’ saved [15578/15578]\n",
            "\n"
          ]
        },
        {
          "output_type": "display_data",
          "data": {
            "text/plain": [
              "<Figure size 1000x1000 with 9 Axes>"
            ],
            "image/png": "[encoded data removed]"
          },
          "metadata": {}
        }
      ],
      "source": [
        "!wget \"https://github.com/valentinagliozzi/NNCourse/raw/main/hop_data.mat\" -O \"hop_data.mat\"\n",
        "data = loadmat(\"hop_data.mat\")\n",
        "P = data[\"P\"]\n",
        "hop_plotpats(P)"
      ]
    },
    {
      "cell_type": "code",
      "execution_count": 31,
      "metadata": {
        "id": "tYRxqT92ps8g"
      },
      "outputs": [],
      "source": [
        "# User options\n",
        "\n",
        "pat = 5  # pattern to test\n",
        "pr = 0.5 # probability of flipping a bit (noise level)\n",
        "\n",
        "u = 5  # number of updates per test run"
      ]
    },
    {
      "cell_type": "code",
      "execution_count": 32,
      "metadata": {
        "id": "iFlGCLWnps8g"
      },
      "outputs": [],
      "source": [
        "# Corrupt the pattern with noise\n",
        "\n",
        "test_pat, flip = hop_flip(P[:, pat - 1], pr)"
      ]
    },
    {
      "cell_type": "code",
      "execution_count": 33,
      "metadata": {
        "colab": {
          "base_uri": "https://localhost:8080/",
          "height": 231
        },
        "id": "7PtjTOlUps8g",
        "outputId": "10f94290-1dbc-4d85-96f9-ef9e46a1ed52"
      },
      "outputs": [
        {
          "output_type": "display_data",
          "data": {
            "text/plain": [
              "<Figure size 640x480 with 3 Axes>"
            ],
            "image/png": "[encoded data removed]"
          },
          "metadata": {}
        }
      ],
      "source": [
        "\n",
        "fig, ax = pl.subplots(1, 3)\n",
        "hop_plotdig(P[:, pat - 1], 10, 12, \"Original Pattern\", ax=ax[0])\n",
        "hop_plotdig(test_pat, 10, 12, \"Input Pattern\", ax=ax[1])\n",
        "hop_plotdig(test_pat, 10, 12, \"Current Pattern\", ax=ax[2])"
      ]
    },
    {
      "cell_type": "code",
      "execution_count": 34,
      "metadata": {
        "id": "LCCIaUaKps8g"
      },
      "outputs": [],
      "source": [
        "# ----------------- Calculate Weight Matrix\n",
        "W = hop_stor(P)"
      ]
    },
    {
      "cell_type": "code",
      "execution_count": 82,
      "metadata": {
        "colab": {
          "base_uri": "https://localhost:8080/",
          "height": 231
        },
        "id": "8qPHfHVJps8g",
        "outputId": "76976e7a-ae4f-4bf4-b63a-c5559ab857ed"
      },
      "outputs": [
        {
          "output_type": "display_data",
          "data": {
            "text/plain": [
              "<Figure size 640x480 with 3 Axes>"
            ],
            "image/png": "[encoded data removed]"
          },
          "metadata": {}
        }
      ],
      "source": [
        "from time import sleep\n",
        "\n",
        "# Execute the Hopfield network for u updates. Run again to perform additional updates\n",
        "\n",
        "for i in range(10):\n",
        "    test_pat = hop_test(W, test_pat, u)\n",
        "    ax[2].clear()\n",
        "    hop_plotdig(test_pat, 10, 12, f\"Current State {i}\", ax=ax[2])\n",
        "    display.display(fig)\n",
        "    display.clear_output(wait=True)\n",
        "    sleep(0.5)"
      ]
    }
  ],
  "metadata": {
    "kernelspec": {
      "display_name": "Python 3",
      "language": "python",
      "name": "python3"
    },
    "language_info": {
      "codemirror_mode": {
        "name": "ipython",
        "version": 3
      },
      "file_extension": ".py",
      "mimetype": "text/x-python",
      "name": "python",
      "nbconvert_exporter": "python",
      "pygments_lexer": "ipython3",
      "version": "3.11.9"
    },
    "colab": {
      "provenance": [],
      "include_colab_link": true
    }
  },
  "nbformat": 4,
  "nbformat_minor": 0
}