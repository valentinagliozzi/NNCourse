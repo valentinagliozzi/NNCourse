{
  "nbformat": 4,
  "nbformat_minor": 0,
  "metadata": {
    "colab": {
      "provenance": [],
      "authorship_tag": "ABX9TyNVTirmLLiKvsK4mj0yQmFq",
      "include_colab_link": true
    },
    "kernelspec": {
      "name": "python3",
      "display_name": "Python 3"
    },
    "language_info": {
      "name": "python"
    }
  },
  "cells": [
    {
      "cell_type": "markdown",
      "metadata": {
        "id": "view-in-github",
        "colab_type": "text"
      },
      "source": [
        "<a href=\"https://colab.research.google.com/github/valentinagliozzi/NNCourse/blob/main/Percettrone.ipynb\" target=\"_parent\"><img src=\"https://colab.research.google.com/assets/colab-badge.svg\" alt=\"Open In Colab\"/></a>"
      ]
    },
    {
      "cell_type": "code",
      "execution_count": 13,
      "metadata": {
        "colab": {
          "base_uri": "https://localhost:8080/"
        },
        "id": "I96OaQEOQCkf",
        "outputId": "cef49631-08a4-48eb-dcee-e53142ce254b"
      },
      "outputs": [
        {
          "output_type": "stream",
          "name": "stdout",
          "text": [
            "--2024-09-26 11:01:46--  https://github.com/valentinagliozzi/NNCourse/raw/main/fung.mat\n",
            "Resolving github.com (github.com)... 20.27.177.113\n",
            "Connecting to github.com (github.com)|20.27.177.113|:443... connected.\n",
            "HTTP request sent, awaiting response... 302 Found\n",
            "Location: https://raw.githubusercontent.com/valentinagliozzi/NNCourse/main/fung.mat [following]\n",
            "--2024-09-26 11:01:46--  https://raw.githubusercontent.com/valentinagliozzi/NNCourse/main/fung.mat\n",
            "Resolving raw.githubusercontent.com (raw.githubusercontent.com)... 185.199.111.133, 185.199.109.133, 185.199.110.133, ...\n",
            "Connecting to raw.githubusercontent.com (raw.githubusercontent.com)|185.199.111.133|:443... connected.\n",
            "HTTP request sent, awaiting response... 200 OK\n",
            "Length: 1031936 (1008K) [application/octet-stream]\n",
            "Saving to: ‘fung.mat’\n",
            "\n",
            "fung.mat            100%[===================>]   1008K  4.86MB/s    in 0.2s    \n",
            "\n",
            "2024-09-26 11:01:47 (4.86 MB/s) - ‘fung.mat’ saved [1031936/1031936]\n",
            "\n"
          ]
        }
      ],
      "source": [
        "import numpy as np\n",
        "import matplotlib.pyplot as plt\n",
        "import scipy.io as sio\n",
        "from scipy.io import loadmat\n",
        "\n",
        "#get the dataset from github\n",
        "!wget \"https://github.com/valentinagliozzi/NNCourse/raw/main/fung.mat\" -O \"fung.mat\""
      ]
    },
    {
      "cell_type": "code",
      "source": [
        "#Functions' definitions\n",
        "%Implementazione del percettrone.\n",
        "%Classifica un insieme di patterns in due classi.\n",
        "%Gli inputs sono reali e gli outputs sono bipolari, 1,-1.\n",
        "%Ci sono m inputs più l'input del bias, posto sempre uguale a -1.\n",
        "%Ci sono m+1 pesi che connettono gli inputs e il bias con l'unico output y.\n",
        "%Gli m+1 pesi compongono un vettore W.\n",
        "%Inizialmente W è casuale.\n",
        "%La funzione di attivazione è il segno.\n",
        "%In entrata viene data una matrice X (input) che ha m colonne, una per input,\n",
        "%e t righe, dove t è il numero dei patterns da apprendere.\n",
        "%I patterns sono m-dimensionali.\n",
        "%In ingresso viene dato anche il vettore colonna T (target) di t righe,\n",
        "%che contiene i valori da apprendere (+1 o -1, che identificano le due classi).\n",
        "%n è il numero di epoche fissate per l'apprendimento.\n",
        "%Uso [a,b]=percett(X,T,n);\n",
        "%a contiene la storia dei pesi e b la storia del numero di patterns appresi\n",
        "\n",
        "\n",
        "def percett(X, T, n):\n",
        "    \"\"\"\n",
        "    Perceptron implementation.\n",
        "    Classifies a set of patterns into two classes.\n",
        "    Inputs are real and outputs are bipolar, 1, -1.\n",
        "    There are m inputs plus the bias input, always set to -1.\n",
        "    There are m+1 weights connecting the inputs and the bias to the single output y.\n",
        "    The m+1 weights form a vector W, initially containing random values.\n",
        "    The activation function is the sign.\n",
        "    The input is a matrix X with m columns (one column per input),\n",
        "    and t rows, where t is the number of patterns to learn.\n",
        "    The patterns are m-dimensional.\n",
        "    The input also includes the column vector T (target) with t rows,\n",
        "    containing the values to learn (+1 or -1, identifying the two classes).\n",
        "    n is the number of epochs set for learning.\n",
        "    Usage: [a, b] = percett(X, T, n)\n",
        "    a contains the history of weights and b the history of the number of learned patterns.\n",
        "    \"\"\"\n",
        "    t, m = X.shape\n",
        "    W = np.random.rand(m + 1)  # Random initialization of W\n",
        "    X = np.hstack((X, -np.ones((t, 1))))  # Add bias input\n",
        "    storiapesi = np.zeros((m + 1, n))\n",
        "    storiappresi = np.zeros(n)\n",
        "\n",
        "    for i in range(n):\n",
        "        storiapesi[:, i] = W\n",
        "        Y = np.sign(np.dot(W, X.T))  # Y is a row vector containing the t outputs\n",
        "        storiappresi[i] = np.sum(T == Y)\n",
        "        for j in range(t):\n",
        "            if Y[j] != T[j]:\n",
        "                W = W + T[j] * X[j, :]\n",
        "\n",
        "    return storiapesi, storiappresi\n",
        "\n",
        "\n",
        "\n",
        "def usaperc(W, P):\n",
        "    \"\"\"\n",
        "    Uses the perceptron after the patterns have been learned.\n",
        "    Receives W and a matrix of patterns P.\n",
        "    Returns a column of responses, one for each pattern.\n",
        "    \"\"\"\n",
        "    t, m = P.shape  # t patterns, m dimensions\n",
        "\n",
        "    # Add a column of -1 to P for the bias term\n",
        "    P = np.hstack((P, -np.ones((t, 1))))\n",
        "\n",
        "    w = W.shape[0]\n",
        "\n",
        "    if w != m + 1:\n",
        "        raise ValueError(\"Incorrect dimensions!\")\n",
        "\n",
        "    # Calculate the result\n",
        "    ris = np.sign(np.dot(W, P.T)).T\n",
        "    return ris\n"
      ],
      "metadata": {
        "id": "UpaV1v7gCGNk"
      },
      "execution_count": 30,
      "outputs": []
    },
    {
      "cell_type": "code",
      "source": [
        "# Load the data\n",
        "fung = sio.loadmat('fung.mat')['fun'].astype(np.float64)\n",
        "\n",
        "# Training pairs\n",
        "fun1i = fung[:4062, :127]\n",
        "fun1t = 2 * fung[:4062, -1] - 1\n",
        "\n",
        "# Test pairs\n",
        "fun2i = fung[4063:, :127]\n",
        "fun2t = 2 * fung[4063:, -1] - 1"
      ],
      "metadata": {
        "id": "5ncwIjJqer7S"
      },
      "execution_count": 20,
      "outputs": []
    },
    {
      "cell_type": "code",
      "source": [
        "# Set random seed\n",
        "np.random.seed(1992)\n",
        "\n",
        "# Learning\n",
        "u, v = percett(fun1i, fun1t, 30)\n"
      ],
      "metadata": {
        "id": "tYYQiqs9ezvt"
      },
      "execution_count": 21,
      "outputs": []
    },
    {
      "cell_type": "code",
      "source": [
        "# Plot the learning curve\n",
        "plt.plot(v)\n",
        "plt.title(\"Learning Curve\")\n",
        "plt.xlabel(\"Epochs\")\n",
        "plt.ylabel(\"Number of Correctly Classified Patterns\")\n",
        "plt.show()\n",
        "\n",
        "print(f\"Percentage correctly learned during Training: {(np.max(v) / 4062) * 100:.2f}%\")"
      ],
      "metadata": {
        "colab": {
          "base_uri": "https://localhost:8080/",
          "height": 490
        },
        "id": "Kax4SKoJClXH",
        "outputId": "8fd2b5c5-33bb-491a-c725-43567bacb0ec"
      },
      "execution_count": 28,
      "outputs": [
        {
          "output_type": "display_data",
          "data": {
            "text/plain": [
              "<Figure size 640x480 with 1 Axes>"
            ],
            "image/png": "[encoded data removed]"
          },
          "metadata": {}
        },
        {
          "output_type": "stream",
          "name": "stdout",
          "text": [
            "Percentage correctly learned during Training: 100.00%\n"
          ]
        }
      ]
    },
    {
      "cell_type": "code",
      "source": [
        "# Find the index of the first maximum\n",
        "hh, h = np.max(v), np.argmax(v)\n",
        "\n",
        "# Optimal weight row\n",
        "W = u[:, h]\n",
        "\n",
        "# Test\n",
        "ris = usaperc(W, fun2i)\n",
        "z = np.sum(ris == fun2t)\n",
        "\n",
        "print(f\"At Test, correct results on UNSEEN fungi:{z}, i.e., {(z / 4062) * 100:.2f}%\")"
      ],
      "metadata": {
        "colab": {
          "base_uri": "https://localhost:8080/"
        },
        "id": "HxpgjtFfCyeO",
        "outputId": "c03876a6-de21-4e2a-8a9c-b9f4c9ab4107"
      },
      "execution_count": 29,
      "outputs": [
        {
          "output_type": "stream",
          "name": "stdout",
          "text": [
            "At Test, correct results on UNSEEN fungi:4051, i.e., 99.73%\n"
          ]
        }
      ]
    }
  ]
}